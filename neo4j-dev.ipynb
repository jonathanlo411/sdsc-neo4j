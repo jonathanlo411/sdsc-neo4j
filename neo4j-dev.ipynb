{
 "cells": [
  {
   "cell_type": "markdown",
   "id": "98de53e3",
   "metadata": {},
   "source": [
    "# Neo4j Dev\n",
    "Purpose is to build a prototype Neo4j instance out.<br>\n",
    "By: Jonathan Lo<br>\n",
    "Date: 11/12/23"
   ]
  },
  {
   "cell_type": "markdown",
   "id": "7dc9c3ea",
   "metadata": {},
   "source": [
    "## Overhead"
   ]
  },
  {
   "cell_type": "code",
   "execution_count": 1,
   "id": "858acad9",
   "metadata": {},
   "outputs": [],
   "source": [
    "# Imports\n",
    "from json import load\n",
    "from neo4j import GraphDatabase\n",
    "from tqdm.notebook import tqdm"
   ]
  },
  {
   "cell_type": "code",
   "execution_count": 2,
   "id": "83610e67",
   "metadata": {},
   "outputs": [],
   "source": [
    "# Import DB details from config\n",
    "config = load(open('config.json', 'r'))\n",
    "\n",
    "# Load interactive video data\n",
    "iv_data = load(open('events.json', 'r'))"
   ]
  },
  {
   "cell_type": "code",
   "execution_count": 3,
   "id": "62a09b0c",
   "metadata": {},
   "outputs": [],
   "source": [
    "# DB Connection\n",
    "URI = config['dbURI']\n",
    "AUTH = (config['dbAuth']['user'], config['dbAuth']['pass'])\n",
    "\n",
    "with GraphDatabase.driver(URI, auth=AUTH) as driver:\n",
    "    driver.verify_connectivity()"
   ]
  },
  {
   "cell_type": "markdown",
   "id": "db44787d",
   "metadata": {},
   "source": [
    "## Analysis"
   ]
  },
  {
   "cell_type": "code",
   "execution_count": 4,
   "id": "b6165e7b",
   "metadata": {},
   "outputs": [],
   "source": [
    "# Preproccess\n",
    "events_list = list(iv_data.values())"
   ]
  },
  {
   "cell_type": "code",
   "execution_count": 5,
   "id": "64bf91bf",
   "metadata": {
    "scrolled": true
   },
   "outputs": [
    {
     "data": {
      "application/vnd.jupyter.widget-view+json": {
       "model_id": "1c93fca4aca44251be2ad4a77a4ba66d",
       "version_major": 2,
       "version_minor": 0
      },
      "text/plain": [
       "  0%|          | 0/74 [00:00<?, ?it/s]"
      ]
     },
     "metadata": {},
     "output_type": "display_data"
    }
   ],
   "source": [
    "def insert_data(driver, data):\n",
    "    with driver.session() as session:\n",
    "        for event, details in tqdm(data.items()):\n",
    "            # Check for null values before inserting\n",
    "            name = details['name'] if details['name'] else \"\"\n",
    "            title = details['title'] if details['title'] else \"\"\n",
    "            start = details['start'] if details['start'] else \"\"\n",
    "            end = details['end'] if details['end'] else \"\"\n",
    "            desc = details['desc']['short'] if details['desc']['short'] else \"\"\n",
    "            vid_link = details['vid_link'] if details['vid_link'] else \"\"\n",
    "            \n",
    "            # Event Query\n",
    "            e_query = \"\"\"MERGE (\n",
    "                e:Event {\n",
    "                    name: $name,\n",
    "                    title: $title,\n",
    "                    start: $start,\n",
    "                    end: $end, desc:\n",
    "                    $desc, vid_link:\n",
    "                    $vid_link\n",
    "                })\n",
    "            \"\"\"\n",
    "            session.run(\n",
    "                e_query,\n",
    "                name=name,\n",
    "                title=title,\n",
    "                start=start,\n",
    "                end=end,\n",
    "                desc=desc,\n",
    "                vid_link=vid_link\n",
    "            )\n",
    "            \n",
    "            # Tag Qeury\n",
    "            t_query = \"\"\"\n",
    "                MERGE (t:Tag {name: $name}) MERGE (e)-[:HAS_TAG]->(t)\n",
    "            \"\"\"\n",
    "            for tag in details['tags']:\n",
    "                session.run(t_query, name=tag)\n",
    "                \n",
    "            # Instructor Query\n",
    "            i_query = \"\"\"\n",
    "                MERGE (i:Instructor {label: $label, title: $title, bio: $bio}) MERGE (e)-[:HAS_INSTRUCTOR]->(i)\n",
    "            \"\"\"\n",
    "            if details['instr']['label']:\n",
    "                label = details['instr']['label'] if details['instr']['label'] else \"\"\n",
    "                instr_title = details['instr']['title'] if details['instr']['title'] else \"\"\n",
    "                bio = details['instr']['bio'] if details['instr']['bio'] else \"\"\n",
    "                session.run(\n",
    "                    i_query,\n",
    "                    label=label,\n",
    "                    title=instr_title,\n",
    "                    bio=bio\n",
    "                )\n",
    "                \n",
    "with GraphDatabase.driver(URI, auth=AUTH) as driver:\n",
    "    driver.verify_connectivity()\n",
    "    insert_data(driver, iv_data)"
   ]
  }
 ],
 "metadata": {
  "kernelspec": {
   "display_name": "Python 3 (ipykernel)",
   "language": "python",
   "name": "python3"
  },
  "language_info": {
   "codemirror_mode": {
    "name": "ipython",
    "version": 3
   },
   "file_extension": ".py",
   "mimetype": "text/x-python",
   "name": "python",
   "nbconvert_exporter": "python",
   "pygments_lexer": "ipython3",
   "version": "3.10.9"
  }
 },
 "nbformat": 4,
 "nbformat_minor": 5
}
